{
  "nbformat": 4,
  "nbformat_minor": 0,
  "metadata": {
    "colab": {
      "provenance": [],
      "include_colab_link": true
    },
    "kernelspec": {
      "name": "python3",
      "display_name": "Python 3"
    },
    "language_info": {
      "name": "python"
    }
  },
  "cells": [
    {
      "cell_type": "markdown",
      "metadata": {
        "id": "view-in-github",
        "colab_type": "text"
      },
      "source": [
        "<a href=\"https://colab.research.google.com/github/cmb170230/NLP-Portfolio/blob/main/Text%20Classification/Sentiment%20Analysis%20with%20NB%2C%20LogRegression%2C%20and%20NN%20Classifiers\" target=\"_parent\"><img src=\"https://colab.research.google.com/assets/colab-badge.svg\" alt=\"Open In Colab\"/></a>"
      ]
    },
    {
      "cell_type": "code",
      "execution_count": 34,
      "metadata": {
        "id": "0DlIEZRKHWBs"
      },
      "outputs": [],
      "source": [
        "import numpy as np\n",
        "import pandas as pd\n",
        "import matplotlib.pyplot as plt\n",
        "import seaborn as sns\n",
        "import tensorflow as tf"
      ]
    },
    {
      "cell_type": "code",
      "source": [
        "sentfile = tf.keras.utils.get_file('sld.zip', 'https://archive.ics.uci.edu/ml/machine-learning-databases/00331/sentiment%20labelled%20sentences.zip')\n",
        "!unzip /root/.keras/datasets/sld.zip"
      ],
      "metadata": {
        "colab": {
          "base_uri": "https://localhost:8080/",
          "height": 0
        },
        "id": "k96cXOfmHez9",
        "outputId": "c5f00116-4da3-4f9c-dc0c-b26edc93edec"
      },
      "execution_count": 4,
      "outputs": [
        {
          "output_type": "stream",
          "name": "stdout",
          "text": [
            "Archive:  /root/.keras/datasets/sld.zip\n",
            "replace sentiment labelled sentences/.DS_Store? [y]es, [n]o, [A]ll, [N]one, [r]ename: y\n",
            "  inflating: sentiment labelled sentences/.DS_Store  \n",
            "replace __MACOSX/sentiment labelled sentences/._.DS_Store? [y]es, [n]o, [A]ll, [N]one, [r]ename: y\n",
            "  inflating: __MACOSX/sentiment labelled sentences/._.DS_Store  \n",
            "replace sentiment labelled sentences/amazon_cells_labelled.txt? [y]es, [n]o, [A]ll, [N]one, [r]ename: y\n",
            "  inflating: sentiment labelled sentences/amazon_cells_labelled.txt  \n",
            "replace sentiment labelled sentences/imdb_labelled.txt? [y]es, [n]o, [A]ll, [N]one, [r]ename: y\n",
            "  inflating: sentiment labelled sentences/imdb_labelled.txt  \n",
            "replace __MACOSX/sentiment labelled sentences/._imdb_labelled.txt? [y]es, [n]o, [A]ll, [N]one, [r]ename: y\n",
            "  inflating: __MACOSX/sentiment labelled sentences/._imdb_labelled.txt  \n",
            "replace sentiment labelled sentences/readme.txt? [y]es, [n]o, [A]ll, [N]one, [r]ename: A\n",
            "  inflating: sentiment labelled sentences/readme.txt  \n",
            "  inflating: __MACOSX/sentiment labelled sentences/._readme.txt  \n",
            "  inflating: sentiment labelled sentences/yelp_labelled.txt  \n",
            "  inflating: __MACOSX/._sentiment labelled sentences  \n"
          ]
        }
      ]
    },
    {
      "cell_type": "code",
      "source": [
        "import os\n",
        "os.mkdir('__MACOSX/Data')\n",
        "os.mkdir('__MACOSX/Data/Negative')\n",
        "os.mkdir('__MACOSX/Data/Positive')"
      ],
      "metadata": {
        "id": "FtfVhCkCHg0n"
      },
      "execution_count": null,
      "outputs": []
    },
    {
      "cell_type": "code",
      "source": [
        "restructure = open('/content/sentiment labelled sentences/amazon_cells_labelled.txt')\n",
        "\n",
        "filelist = restructure.readlines()\n",
        "restructure.close()\n",
        "i = 0\n",
        "for line in filelist:\n",
        "  if(line[-2] == '0'):\n",
        "    fileformat = '__MACOSX/Data/Negative/zero{}.txt'\n",
        "    filename = fileformat.format(i)\n",
        "    zerofile = open(filename, 'w')\n",
        "    zerofile.write(line[0:-2])\n",
        "    zerofile.close()\n",
        "  else:\n",
        "    fileformat = '__MACOSX/Data/Positive/one{}.txt'\n",
        "    filename = fileformat.format(i)\n",
        "    onefile = open(filename, 'w')\n",
        "    onefile.write(line[0:-2])\n",
        "    onefile.close()\n",
        "  i += 1"
      ],
      "metadata": {
        "id": "ntixeutXHj4p"
      },
      "execution_count": 6,
      "outputs": []
    },
    {
      "cell_type": "code",
      "source": [
        "train = tf.keras.utils.text_dataset_from_directory(\"__MACOSX/Data\", label_mode = 'binary', \n",
        "                                                   batch_size = 50, seed = 84, validation_split = 0.2, subset = 'training')\n",
        "test = tf.keras.utils.text_dataset_from_directory(\"__MACOSX/Data\", label_mode = 'binary', \n",
        "                                                  batch_size = 50, seed = 84, validation_split = 0.2, subset = 'validation')"
      ],
      "metadata": {
        "colab": {
          "base_uri": "https://localhost:8080/",
          "height": 0
        },
        "id": "Ovfcqvt6HnTB",
        "outputId": "a63fd800-d4a7-4afc-dd2a-639e670aaaf8"
      },
      "execution_count": 7,
      "outputs": [
        {
          "output_type": "stream",
          "name": "stdout",
          "text": [
            "Found 1000 files belonging to 2 classes.\n",
            "Using 800 files for training.\n",
            "Found 1000 files belonging to 2 classes.\n",
            "Using 200 files for validation.\n"
          ]
        }
      ]
    },
    {
      "cell_type": "code",
      "source": [
        "VOCAB_SIZE = 1670\n",
        "encoder = tf.keras.layers.TextVectorization(max_tokens = VOCAB_SIZE)\n",
        "encoder.adapt(train.map(lambda text, label: text))\n",
        "vocab = np.array(encoder.get_vocabulary())"
      ],
      "metadata": {
        "id": "H3GSLYbfIPXu"
      },
      "execution_count": 8,
      "outputs": []
    },
    {
      "cell_type": "code",
      "source": [
        "# Define a function to extract the data from a tensorflow dataset so that we can work with Pandas Dataframes/Series objects\n",
        "# when using Sklearn Naive Bayes\n",
        "def get_tf_data(data):\n",
        "  dat = []\n",
        "\n",
        "  for feature_batch, label_batch in data.take(-1):\n",
        "    for features, label in zip(feature_batch.numpy(), label_batch.numpy()):\n",
        "      dat.append((features, label[0]))\n",
        "\n",
        "  return dat\n",
        "\n",
        "train_df = pd.DataFrame(get_tf_data(train), columns = ['Text', 'Sentiment'])\n",
        "test_df = pd.DataFrame(get_tf_data(test), columns = ['Text', 'Sentiment'])"
      ],
      "metadata": {
        "id": "07TPJSQuYlY4"
      },
      "execution_count": 9,
      "outputs": []
    },
    {
      "cell_type": "markdown",
      "source": [
        "#Exploration of the Data\n",
        "\n",
        "This dataset consists of 3000 reviews, 1000 from each of three sites: imdb.com, amazon.com, and yelp.com. The target task for these data is sentiment analysis, with 500 files containing positively labeled reviews and 500 containing negatively labeled reviews for each site."
      ],
      "metadata": {
        "id": "AYYXxgYieQZB"
      }
    },
    {
      "cell_type": "code",
      "source": [
        "catplotdata = pd.concat([train_df, test_df])\n",
        "catplotdata.head()\n"
      ],
      "metadata": {
        "colab": {
          "base_uri": "https://localhost:8080/",
          "height": 206
        },
        "id": "sEMYHiVveP6b",
        "outputId": "909ad229-0d21-4937-bfce-cc80d8d0b6b1"
      },
      "execution_count": 47,
      "outputs": [
        {
          "output_type": "execute_result",
          "data": {
            "text/plain": [
              "                                                Text  Sentiment\n",
              "0  b'AFTER ARGUING WITH VERIZON REGARDING THE DRO...        0.0\n",
              "1  b\"Unfortunately it's easy to accidentally acti...        0.0\n",
              "2                   b'The reception is excellent!\\t'        1.0\n",
              "3  b'Arrived quickly and much less expensive than...        1.0\n",
              "4  b'Great it was new packaged nice works good, n...        1.0"
            ],
            "text/html": [
              "\n",
              "  <div id=\"df-efcd1419-16bf-45c9-bed6-b4beb8d7fe9a\">\n",
              "    <div class=\"colab-df-container\">\n",
              "      <div>\n",
              "<style scoped>\n",
              "    .dataframe tbody tr th:only-of-type {\n",
              "        vertical-align: middle;\n",
              "    }\n",
              "\n",
              "    .dataframe tbody tr th {\n",
              "        vertical-align: top;\n",
              "    }\n",
              "\n",
              "    .dataframe thead th {\n",
              "        text-align: right;\n",
              "    }\n",
              "</style>\n",
              "<table border=\"1\" class=\"dataframe\">\n",
              "  <thead>\n",
              "    <tr style=\"text-align: right;\">\n",
              "      <th></th>\n",
              "      <th>Text</th>\n",
              "      <th>Sentiment</th>\n",
              "    </tr>\n",
              "  </thead>\n",
              "  <tbody>\n",
              "    <tr>\n",
              "      <th>0</th>\n",
              "      <td>b'AFTER ARGUING WITH VERIZON REGARDING THE DRO...</td>\n",
              "      <td>0.0</td>\n",
              "    </tr>\n",
              "    <tr>\n",
              "      <th>1</th>\n",
              "      <td>b\"Unfortunately it's easy to accidentally acti...</td>\n",
              "      <td>0.0</td>\n",
              "    </tr>\n",
              "    <tr>\n",
              "      <th>2</th>\n",
              "      <td>b'The reception is excellent!\\t'</td>\n",
              "      <td>1.0</td>\n",
              "    </tr>\n",
              "    <tr>\n",
              "      <th>3</th>\n",
              "      <td>b'Arrived quickly and much less expensive than...</td>\n",
              "      <td>1.0</td>\n",
              "    </tr>\n",
              "    <tr>\n",
              "      <th>4</th>\n",
              "      <td>b'Great it was new packaged nice works good, n...</td>\n",
              "      <td>1.0</td>\n",
              "    </tr>\n",
              "  </tbody>\n",
              "</table>\n",
              "</div>\n",
              "      <button class=\"colab-df-convert\" onclick=\"convertToInteractive('df-efcd1419-16bf-45c9-bed6-b4beb8d7fe9a')\"\n",
              "              title=\"Convert this dataframe to an interactive table.\"\n",
              "              style=\"display:none;\">\n",
              "        \n",
              "  <svg xmlns=\"http://www.w3.org/2000/svg\" height=\"24px\"viewBox=\"0 0 24 24\"\n",
              "       width=\"24px\">\n",
              "    <path d=\"M0 0h24v24H0V0z\" fill=\"none\"/>\n",
              "    <path d=\"M18.56 5.44l.94 2.06.94-2.06 2.06-.94-2.06-.94-.94-2.06-.94 2.06-2.06.94zm-11 1L8.5 8.5l.94-2.06 2.06-.94-2.06-.94L8.5 2.5l-.94 2.06-2.06.94zm10 10l.94 2.06.94-2.06 2.06-.94-2.06-.94-.94-2.06-.94 2.06-2.06.94z\"/><path d=\"M17.41 7.96l-1.37-1.37c-.4-.4-.92-.59-1.43-.59-.52 0-1.04.2-1.43.59L10.3 9.45l-7.72 7.72c-.78.78-.78 2.05 0 2.83L4 21.41c.39.39.9.59 1.41.59.51 0 1.02-.2 1.41-.59l7.78-7.78 2.81-2.81c.8-.78.8-2.07 0-2.86zM5.41 20L4 18.59l7.72-7.72 1.47 1.35L5.41 20z\"/>\n",
              "  </svg>\n",
              "      </button>\n",
              "      \n",
              "  <style>\n",
              "    .colab-df-container {\n",
              "      display:flex;\n",
              "      flex-wrap:wrap;\n",
              "      gap: 12px;\n",
              "    }\n",
              "\n",
              "    .colab-df-convert {\n",
              "      background-color: #E8F0FE;\n",
              "      border: none;\n",
              "      border-radius: 50%;\n",
              "      cursor: pointer;\n",
              "      display: none;\n",
              "      fill: #1967D2;\n",
              "      height: 32px;\n",
              "      padding: 0 0 0 0;\n",
              "      width: 32px;\n",
              "    }\n",
              "\n",
              "    .colab-df-convert:hover {\n",
              "      background-color: #E2EBFA;\n",
              "      box-shadow: 0px 1px 2px rgba(60, 64, 67, 0.3), 0px 1px 3px 1px rgba(60, 64, 67, 0.15);\n",
              "      fill: #174EA6;\n",
              "    }\n",
              "\n",
              "    [theme=dark] .colab-df-convert {\n",
              "      background-color: #3B4455;\n",
              "      fill: #D2E3FC;\n",
              "    }\n",
              "\n",
              "    [theme=dark] .colab-df-convert:hover {\n",
              "      background-color: #434B5C;\n",
              "      box-shadow: 0px 1px 3px 1px rgba(0, 0, 0, 0.15);\n",
              "      filter: drop-shadow(0px 1px 2px rgba(0, 0, 0, 0.3));\n",
              "      fill: #FFFFFF;\n",
              "    }\n",
              "  </style>\n",
              "\n",
              "      <script>\n",
              "        const buttonEl =\n",
              "          document.querySelector('#df-efcd1419-16bf-45c9-bed6-b4beb8d7fe9a button.colab-df-convert');\n",
              "        buttonEl.style.display =\n",
              "          google.colab.kernel.accessAllowed ? 'block' : 'none';\n",
              "\n",
              "        async function convertToInteractive(key) {\n",
              "          const element = document.querySelector('#df-efcd1419-16bf-45c9-bed6-b4beb8d7fe9a');\n",
              "          const dataTable =\n",
              "            await google.colab.kernel.invokeFunction('convertToInteractive',\n",
              "                                                     [key], {});\n",
              "          if (!dataTable) return;\n",
              "\n",
              "          const docLinkHtml = 'Like what you see? Visit the ' +\n",
              "            '<a target=\"_blank\" href=https://colab.research.google.com/notebooks/data_table.ipynb>data table notebook</a>'\n",
              "            + ' to learn more about interactive tables.';\n",
              "          element.innerHTML = '';\n",
              "          dataTable['output_type'] = 'display_data';\n",
              "          await google.colab.output.renderOutput(dataTable, element);\n",
              "          const docLink = document.createElement('div');\n",
              "          docLink.innerHTML = docLinkHtml;\n",
              "          element.appendChild(docLink);\n",
              "        }\n",
              "      </script>\n",
              "    </div>\n",
              "  </div>\n",
              "  "
            ]
          },
          "metadata": {},
          "execution_count": 47
        }
      ]
    },
    {
      "cell_type": "code",
      "source": [
        "sns.catplot(data = catplotdata, x=None, y=\"Sentiment\", kind=\"count\", palette=\"pastel\")"
      ],
      "metadata": {
        "colab": {
          "base_uri": "https://localhost:8080/",
          "height": 523
        },
        "id": "zFviKdf0nPOt",
        "outputId": "5d3a3169-b0fc-408e-f48a-643a50df422c"
      },
      "execution_count": 48,
      "outputs": [
        {
          "output_type": "execute_result",
          "data": {
            "text/plain": [
              "<seaborn.axisgrid.FacetGrid at 0x7f22a0fef550>"
            ]
          },
          "metadata": {},
          "execution_count": 48
        },
        {
          "output_type": "display_data",
          "data": {
            "text/plain": [
              "<Figure size 500x500 with 1 Axes>"
            ],
            "image/png": "[encoded data removed]"
          },
          "metadata": {}
        }
      ]
    },
    {
      "cell_type": "markdown",
      "source": [
        "#Naive Bayes"
      ],
      "metadata": {
        "id": "PTMNKJ7KYZ4z"
      }
    },
    {
      "cell_type": "code",
      "source": [
        "from sklearn.feature_extraction.text import TfidfTransformer, CountVectorizer\n",
        "from sklearn.naive_bayes import MultinomialNB, BernoulliNB\n",
        "\n",
        "X_train = train_df['Text']\n",
        "y_train = train_df['Sentiment']\n",
        "\n",
        "X_test = test_df['Text']\n",
        "y_test = test_df['Sentiment']"
      ],
      "metadata": {
        "id": "c5WrVROqYlb2"
      },
      "execution_count": 10,
      "outputs": []
    },
    {
      "cell_type": "markdown",
      "source": [
        "## Pipeline and GridSearchCV for Optimal Naive Bayes Variant and Hyperparameters"
      ],
      "metadata": {
        "id": "Unfui2RRYqun"
      }
    },
    {
      "cell_type": "code",
      "source": [
        "from sklearn.utils.metaestimators import BaseEstimator\n",
        "from sklearn.pipeline import Pipeline\n",
        "from sklearn.model_selection import GridSearchCV\n",
        "\n",
        "# Define a generic class for usage with Sklearn estimators so that we can \n",
        "# test multiple models (MultinomialNB and BernoulliNB) using the same pipeline\n",
        "class naive_bayes_mod(BaseEstimator):\n",
        "  def __init__(self, estimator = MultinomialNB()):\n",
        "    self.estimator = estimator\n",
        "\n",
        "  def fit(self, X, y = None, **kwargs):\n",
        "    self.estimator.fit(X, y)\n",
        "    return self\n",
        "\n",
        "  def predict(self, X, y = None):\n",
        "    return self.estimator.predict(X)\n",
        "\n",
        "  def score(self, X, y):\n",
        "    return self.estimator.score(X, y)\n",
        "\n",
        "pipe = Pipeline(steps = [\n",
        "    ('count_vectorizer', CountVectorizer()),\n",
        "    ('tfidf_transformer', TfidfTransformer()),\n",
        "    ('nb', naive_bayes_mod())\n",
        "])\n",
        "\n",
        "params = [{ \n",
        "    # First dictionary is for multinomial naive bayes\n",
        "    'count_vectorizer__stop_words': ['english', None],           # English stop words set has many known problems, so try the vectorization \n",
        "                                                                 # without using stop words at all\n",
        "           \n",
        "    'tfidf_transformer': [TfidfTransformer(), 'passthrough'],    # Whether to use count vectorized (skipping the TfidfTransformer step) \n",
        "                                                                 # or tfidf vectorized\n",
        "    'nb__estimator': [MultinomialNB()],\n",
        "    'nb__estimator__alpha': [0.001, 0.25, 0.5, 0.75, 1],\n",
        "    'nb__estimator__class_prior': [(0.25, 0.75), (0.5, 0.5), (0.75, 0.25)]\n",
        "}, {\n",
        "    # Second dictionary is for bernoulli naive bayes\n",
        "    'count_vectorizer__stop_words': ['english', None],   \n",
        "    'count_vectorizer__binary' : [True],                         # Only use binary word occurrence for bernoulli\n",
        "    'tfidf_transformer': ['passthrough'],                        # Skip the TfidfTransformer step\n",
        "    'nb__estimator': [BernoulliNB()],\n",
        "    'nb__estimator__alpha': [0.001, 0.25, 0.5, 0.75, 1],\n",
        "    'nb__estimator__class_prior': [(0.25, 0.75), (0.5, 0.5), (0.75, 0.25)]\n",
        "}]\n",
        "\n",
        "grid_nb = GridSearchCV(pipe, params, cv = 10, scoring = 'accuracy').fit(X_train, y_train)"
      ],
      "metadata": {
        "id": "4auo-JYVYlfH"
      },
      "execution_count": 49,
      "outputs": []
    },
    {
      "cell_type": "code",
      "source": [
        "grid_nb.best_params_"
      ],
      "metadata": {
        "colab": {
          "base_uri": "https://localhost:8080/",
          "height": 0
        },
        "id": "RUNPiQZeYlhy",
        "outputId": "65ff72ac-63f6-4602-ea3b-756943ccfd34"
      },
      "execution_count": 12,
      "outputs": [
        {
          "output_type": "execute_result",
          "data": {
            "text/plain": [
              "{'count_vectorizer__stop_words': None,\n",
              " 'nb__estimator': MultinomialNB(alpha=0.75, class_prior=(0.5, 0.5)),\n",
              " 'nb__estimator__alpha': 0.75,\n",
              " 'nb__estimator__class_prior': (0.5, 0.5),\n",
              " 'tfidf_transformer': TfidfTransformer()}"
            ]
          },
          "metadata": {},
          "execution_count": 12
        }
      ]
    },
    {
      "cell_type": "code",
      "source": [
        "# best_estimator_ returns the entire pipeline, so we can use the predict method directly on un-vectorized test data\n",
        "best_nb = grid_nb.best_estimator_"
      ],
      "metadata": {
        "id": "V2hlz-WfY9-4"
      },
      "execution_count": 13,
      "outputs": []
    },
    {
      "cell_type": "code",
      "source": [
        "#recover optimal parameters from the model\n",
        "best_nb.get_params"
      ],
      "metadata": {
        "colab": {
          "base_uri": "https://localhost:8080/",
          "height": 0
        },
        "id": "Q15ZaVl9lTtT",
        "outputId": "873be7e9-7425-443f-fd3a-c7779318ea6c"
      },
      "execution_count": 32,
      "outputs": [
        {
          "output_type": "execute_result",
          "data": {
            "text/plain": [
              "<bound method Pipeline.get_params of Pipeline(steps=[('count_vectorizer', CountVectorizer()),\n",
              "                ('tfidf_transformer', TfidfTransformer()),\n",
              "                ('nb',\n",
              "                 naive_bayes_mod(estimator=MultinomialNB(alpha=0.75,\n",
              "                                                         class_prior=(0.5,\n",
              "                                                                      0.5))))])>"
            ]
          },
          "metadata": {},
          "execution_count": 32
        }
      ]
    },
    {
      "cell_type": "markdown",
      "source": [
        "## Prediction on Test Data"
      ],
      "metadata": {
        "id": "zaAD_QEGZATr"
      }
    },
    {
      "cell_type": "code",
      "source": [
        "from sklearn.metrics import classification_report, ConfusionMatrixDisplay\n",
        "\n",
        "mappings = {0 : 'negative', 1 : 'positive'}\n",
        "\n",
        "# Predict on the test data and print evaluation metrics\n",
        "preds = best_nb.predict(X_test)\n",
        "print(classification_report(y_test, preds, target_names = mappings.values()))\n",
        "ConfusionMatrixDisplay.from_predictions(y_test, preds, display_labels = mappings.values())"
      ],
      "metadata": {
        "colab": {
          "base_uri": "https://localhost:8080/",
          "height": 623
        },
        "id": "ciwkUl01ZRF3",
        "outputId": "78ceb023-d7e7-42b8-c95d-ffd44663dbae"
      },
      "execution_count": 14,
      "outputs": [
        {
          "output_type": "stream",
          "name": "stdout",
          "text": [
            "              precision    recall  f1-score   support\n",
            "\n",
            "    negative       0.83      0.88      0.85        97\n",
            "    positive       0.88      0.83      0.86       103\n",
            "\n",
            "    accuracy                           0.85       200\n",
            "   macro avg       0.86      0.86      0.85       200\n",
            "weighted avg       0.86      0.85      0.86       200\n",
            "\n"
          ]
        },
        {
          "output_type": "execute_result",
          "data": {
            "text/plain": [
              "<sklearn.metrics._plot.confusion_matrix.ConfusionMatrixDisplay at 0x7f233e81ec40>"
            ]
          },
          "metadata": {},
          "execution_count": 14
        },
        {
          "output_type": "display_data",
          "data": {
            "text/plain": [
              "<Figure size 640x480 with 2 Axes>"
            ],
            "image/png": "[encoded data removed]"
          },
          "metadata": {}
        }
      ]
    },
    {
      "cell_type": "code",
      "source": [
        "misclassification_count = 0\n",
        "correct_disp = 0\n",
        "i = 0\n",
        "print(\"INCORRECT PREDICTIONS:\")\n",
        "while misclassification_count < 10:\n",
        "  if (preds[i] != y_test[i]):\n",
        "    print('\\t\"' + str(X_test[i])[2:-3] + '\"')     # [2:-3] to cut off unwanted starting and ending characters\n",
        "    print('\\tActual Sentiment: {}\\t\\tPredicted Sentiment: {}\\n'.format(mappings.get(y_test[i]), mappings.get(preds[i])))\n",
        "    misclassification_count += 1\n",
        "  i += 1\n",
        "\n",
        "print(\"CORRECT PREDICTIONS:\")\n",
        "i = 0\n",
        "while correct_disp < 10:\n",
        "  if (preds[i] == y_test[i]):\n",
        "    print('\\t\"' + str(X_test[i])[2:-3] + '\"')     # [2:-3] to cut off unwanted starting and ending characters\n",
        "    print('\\tActual Sentiment: {}\\t\\tPredicted Sentiment: {}\\n'.format(mappings.get(y_test[i]), mappings.get(preds[i])))\n",
        "    correct_disp += 1\n",
        "\n",
        "  i += 1"
      ],
      "metadata": {
        "colab": {
          "base_uri": "https://localhost:8080/",
          "height": 0
        },
        "id": "dqSzQXELT_ry",
        "outputId": "041079fb-beab-477f-ce3f-202d9c92b426"
      },
      "execution_count": 15,
      "outputs": [
        {
          "output_type": "stream",
          "name": "stdout",
          "text": [
            "INCORRECT PREDICTIONS:\n",
            "\t\"Phone now holds charge like it did when it was new.\"\n",
            "\tActual Sentiment: positive\t\tPredicted Sentiment: negative\n",
            "\n",
            "\t\"The mic there is a joke, and the volume is quite low.\"\n",
            "\tActual Sentiment: negative\t\tPredicted Sentiment: positive\n",
            "\n",
            "\t\"Small, sleek, impressive looking, practical setup with ample storage in place.\"\n",
            "\tActual Sentiment: positive\t\tPredicted Sentiment: negative\n",
            "\n",
            "\t\"I gave it 5 stars because of the sound quality.\"\n",
            "\tActual Sentiment: positive\t\tPredicted Sentiment: negative\n",
            "\n",
            "\t\"You'll love how thin it is.\"\n",
            "\tActual Sentiment: positive\t\tPredicted Sentiment: negative\n",
            "\n",
            "\t\"The volume for the ringer is REAL good (you have choices how loud).\"\n",
            "\tActual Sentiment: positive\t\tPredicted Sentiment: negative\n",
            "\n",
            "\t\"I have bought this Nokia cell phone a few weeks ago and it was a nightmare.\"\n",
            "\tActual Sentiment: negative\t\tPredicted Sentiment: positive\n",
            "\n",
            "\t\"It defeats the purpose of a bluetooth headset.\"\n",
            "\tActual Sentiment: negative\t\tPredicted Sentiment: positive\n",
            "\n",
            "\t\"The phone gets EXTREMELY HOT!\"\n",
            "\tActual Sentiment: negative\t\tPredicted Sentiment: positive\n",
            "\n",
            "\t\"Buttons are too small.\"\n",
            "\tActual Sentiment: negative\t\tPredicted Sentiment: positive\n",
            "\n",
            "CORRECT PREDICTIONS:\n",
            "\t\"Great software for Motorolas.\"\n",
            "\tActual Sentiment: positive\t\tPredicted Sentiment: positive\n",
            "\n",
            "\t\"I am also very happy with the price.\"\n",
            "\tActual Sentiment: positive\t\tPredicted Sentiment: positive\n",
            "\n",
            "\t\"disappointed.\"\n",
            "\tActual Sentiment: negative\t\tPredicted Sentiment: negative\n",
            "\n",
            "\t\"Poor Talk Time Performance.\"\n",
            "\tActual Sentiment: negative\t\tPredicted Sentiment: negative\n",
            "\n",
            "\t\"What a piece of junk.. I lose more calls on this phone.\"\n",
            "\tActual Sentiment: negative\t\tPredicted Sentiment: negative\n",
            "\n",
            "\t\"Bad Purchase.\"\n",
            "\tActual Sentiment: negative\t\tPredicted Sentiment: negative\n",
            "\n",
            "\t\"But despite these few flaws, this case is of exceptional quality and well worth the additional costs of owning an official OEM product.\"\n",
            "\tActual Sentiment: positive\t\tPredicted Sentiment: positive\n",
            "\n",
            "\t\"This is a good battery, and it got here really fast.\"\n",
            "\tActual Sentiment: positive\t\tPredicted Sentiment: positive\n",
            "\n",
            "\t\"Very unreliable service from T-mobile !\"\n",
            "\tActual Sentiment: negative\t\tPredicted Sentiment: negative\n",
            "\n",
            "\t\"the phone was unusable and was not new.\"\n",
            "\tActual Sentiment: negative\t\tPredicted Sentiment: negative\n",
            "\n"
          ]
        }
      ]
    },
    {
      "cell_type": "markdown",
      "source": [
        "#Logistic Regressor GridSearchCV for Optimal Hyperparameters\n",
        "\n"
      ],
      "metadata": {
        "id": "6iqh0CK1lTl2"
      }
    },
    {
      "cell_type": "code",
      "source": [
        "from sklearn.linear_model import LogisticRegression\n",
        "\n",
        "pipe = Pipeline(steps = [\n",
        "    ('count_vectorizer', CountVectorizer()),\n",
        "    ('tfidf_transformer', TfidfTransformer()),\n",
        "    ('linreg', LogisticRegression())\n",
        "])\n",
        "\n",
        "params = [{ \n",
        "    'count_vectorizer__stop_words': ['english', None],           # English stop words set has many known problems, so try the vectorization \n",
        "                                                                 # without using stop words at all\n",
        "           \n",
        "    'tfidf_transformer': [TfidfTransformer(), 'passthrough'],    # Whether to use count vectorized (skipping the TfidfTransformer step) \n",
        "                                                                 # or tfidf vectorized\n",
        "    'linreg__penalty': ['l1', 'l2', 'elasticnet', None],                 \n",
        "    'linreg__tol' : [1e-3, 1e-4, 1e-5, 1e-6],\n",
        "    'linreg__C' : [0.1, 1, 10, 100, 1000],\n",
        "    'linreg__class_weight' : ['balanced', None],\n",
        "    'linreg__random_state' : [12]\n",
        "}]\n",
        "\n",
        "grid_logr = GridSearchCV(pipe, params, cv = 10, scoring = 'accuracy').fit(X_train, y_train)"
      ],
      "metadata": {
        "id": "aPB2sb4tlTHy"
      },
      "execution_count": null,
      "outputs": []
    },
    {
      "cell_type": "code",
      "source": [
        "# best_estimator_ returns the entire pipeline, so we can use the predict method directly on un-vectorized test data\n",
        "best_linreg = grid_logr.best_estimator_"
      ],
      "metadata": {
        "id": "sW69pDajps3h"
      },
      "execution_count": 30,
      "outputs": []
    },
    {
      "cell_type": "code",
      "source": [
        "#recover optimal parameters from the model\n",
        "best_linreg.get_params"
      ],
      "metadata": {
        "colab": {
          "base_uri": "https://localhost:8080/",
          "height": 0
        },
        "id": "usyoD4dqlIK9",
        "outputId": "bb8a90a9-bfe0-4585-fc33-b295a5635906"
      },
      "execution_count": 31,
      "outputs": [
        {
          "output_type": "execute_result",
          "data": {
            "text/plain": [
              "<bound method Pipeline.get_params of Pipeline(steps=[('count_vectorizer', CountVectorizer()),\n",
              "                ('tfidf_transformer', 'passthrough'),\n",
              "                ('nn',\n",
              "                 MLPClassifier(batch_size=50, hidden_layer_sizes=(100, 50),\n",
              "                               learning_rate='invscaling', max_iter=300,\n",
              "                               random_state=12))])>"
            ]
          },
          "metadata": {},
          "execution_count": 31
        }
      ]
    },
    {
      "cell_type": "code",
      "source": [
        "# Predict on the test data and print evaluation metrics\n",
        "preds = best_linreg.predict(X_test)\n",
        "print(classification_report(y_test, preds, target_names = mappings.values()))\n",
        "ConfusionMatrixDisplay.from_predictions(y_test, preds, display_labels = mappings.values())"
      ],
      "metadata": {
        "colab": {
          "base_uri": "https://localhost:8080/",
          "height": 623
        },
        "id": "-S2jGZacpxiN",
        "outputId": "e8bdba3a-85cd-4d29-f03b-696cf1aee900"
      },
      "execution_count": 18,
      "outputs": [
        {
          "output_type": "stream",
          "name": "stdout",
          "text": [
            "              precision    recall  f1-score   support\n",
            "\n",
            "    negative       0.86      0.86      0.86        97\n",
            "    positive       0.86      0.86      0.86       103\n",
            "\n",
            "    accuracy                           0.86       200\n",
            "   macro avg       0.86      0.86      0.86       200\n",
            "weighted avg       0.86      0.86      0.86       200\n",
            "\n"
          ]
        },
        {
          "output_type": "execute_result",
          "data": {
            "text/plain": [
              "<sklearn.metrics._plot.confusion_matrix.ConfusionMatrixDisplay at 0x7f22a582c8e0>"
            ]
          },
          "metadata": {},
          "execution_count": 18
        },
        {
          "output_type": "display_data",
          "data": {
            "text/plain": [
              "<Figure size 640x480 with 2 Axes>"
            ],
            "image/png": "[encoded data removed]"
          },
          "metadata": {}
        }
      ]
    },
    {
      "cell_type": "code",
      "source": [
        "misclassification_count = 0\n",
        "correct_disp = 0\n",
        "i = 0\n",
        "print(\"INCORRECT PREDICTIONS:\")\n",
        "while misclassification_count < 10:\n",
        "  if (preds[i] != y_test[i]):\n",
        "    print('\\t\"' + str(X_test[i])[2:-3] + '\"')     # [2:-3] to cut off unwanted starting and ending characters\n",
        "    print('\\tActual Sentiment: {}\\t\\tPredicted Sentiment: {}\\n'.format(mappings.get(y_test[i]), mappings.get(preds[i])))\n",
        "    misclassification_count += 1\n",
        "  i += 1\n",
        "\n",
        "print(\"CORRECT PREDICTIONS:\")\n",
        "i = 0\n",
        "while correct_disp < 10:\n",
        "  if (preds[i] == y_test[i]):\n",
        "    print('\\t\"' + str(X_test[i])[2:-3] + '\"')     # [2:-3] to cut off unwanted starting and ending characters\n",
        "    print('\\tActual Sentiment: {}\\t\\tPredicted Sentiment: {}\\n'.format(mappings.get(y_test[i]), mappings.get(preds[i])))\n",
        "    correct_disp += 1\n",
        "\n",
        "  i += 1"
      ],
      "metadata": {
        "colab": {
          "base_uri": "https://localhost:8080/",
          "height": 0
        },
        "id": "9tIbCX8NqDZ5",
        "outputId": "1ec6f8d0-4a91-4e39-a738-ce6dbccab4b2"
      },
      "execution_count": 19,
      "outputs": [
        {
          "output_type": "stream",
          "name": "stdout",
          "text": [
            "INCORRECT PREDICTIONS:\n",
            "\t\"The mic there is a joke, and the volume is quite low.\"\n",
            "\tActual Sentiment: negative\t\tPredicted Sentiment: positive\n",
            "\n",
            "\t\"Small, sleek, impressive looking, practical setup with ample storage in place.\"\n",
            "\tActual Sentiment: positive\t\tPredicted Sentiment: negative\n",
            "\n",
            "\t\"Disappointing accessory from a good manufacturer.\"\n",
            "\tActual Sentiment: negative\t\tPredicted Sentiment: positive\n",
            "\n",
            "\t\"Tied to charger for conversations lasting more than 45 minutes.MAJOR PROBLEMS!!\"\n",
            "\tActual Sentiment: negative\t\tPredicted Sentiment: positive\n",
            "\n",
            "\t\"Beautiful styling though.\"\n",
            "\tActual Sentiment: positive\t\tPredicted Sentiment: negative\n",
            "\n",
            "\t\"Timely shipment and quality product.\"\n",
            "\tActual Sentiment: positive\t\tPredicted Sentiment: negative\n",
            "\n",
            "\t\"I have bought this Nokia cell phone a few weeks ago and it was a nightmare.\"\n",
            "\tActual Sentiment: negative\t\tPredicted Sentiment: positive\n",
            "\n",
            "\t\"It defeats the purpose of a bluetooth headset.\"\n",
            "\tActual Sentiment: negative\t\tPredicted Sentiment: positive\n",
            "\n",
            "\t\"Buttons are too small.\"\n",
            "\tActual Sentiment: negative\t\tPredicted Sentiment: positive\n",
            "\n",
            "\t\"I can hear while I'm driving in the car, and usually don't even have to put it on it's loudest setting.\"\n",
            "\tActual Sentiment: positive\t\tPredicted Sentiment: negative\n",
            "\n",
            "CORRECT PREDICTIONS:\n",
            "\t\"Great software for Motorolas.\"\n",
            "\tActual Sentiment: positive\t\tPredicted Sentiment: positive\n",
            "\n",
            "\t\"I am also very happy with the price.\"\n",
            "\tActual Sentiment: positive\t\tPredicted Sentiment: positive\n",
            "\n",
            "\t\"disappointed.\"\n",
            "\tActual Sentiment: negative\t\tPredicted Sentiment: negative\n",
            "\n",
            "\t\"Poor Talk Time Performance.\"\n",
            "\tActual Sentiment: negative\t\tPredicted Sentiment: negative\n",
            "\n",
            "\t\"What a piece of junk.. I lose more calls on this phone.\"\n",
            "\tActual Sentiment: negative\t\tPredicted Sentiment: negative\n",
            "\n",
            "\t\"Bad Purchase.\"\n",
            "\tActual Sentiment: negative\t\tPredicted Sentiment: negative\n",
            "\n",
            "\t\"But despite these few flaws, this case is of exceptional quality and well worth the additional costs of owning an official OEM product.\"\n",
            "\tActual Sentiment: positive\t\tPredicted Sentiment: positive\n",
            "\n",
            "\t\"This is a good battery, and it got here really fast.\"\n",
            "\tActual Sentiment: positive\t\tPredicted Sentiment: positive\n",
            "\n",
            "\t\"Phone now holds charge like it did when it was new.\"\n",
            "\tActual Sentiment: positive\t\tPredicted Sentiment: positive\n",
            "\n",
            "\t\"Very unreliable service from T-mobile !\"\n",
            "\tActual Sentiment: negative\t\tPredicted Sentiment: negative\n",
            "\n"
          ]
        }
      ]
    },
    {
      "cell_type": "markdown",
      "source": [
        "#Neural Network GridSearchCV for Optimal Hyperparameters"
      ],
      "metadata": {
        "id": "xob04mUYvnRc"
      }
    },
    {
      "cell_type": "code",
      "source": [
        "from sklearn.neural_network import MLPClassifier\n",
        "\n",
        "#takes 2 hours 36 minutes to complete, do not run\n",
        "\n",
        "pipe = Pipeline(steps = [\n",
        "    ('count_vectorizer', CountVectorizer()),\n",
        "    ('tfidf_transformer', TfidfTransformer()),\n",
        "    ('nn', MLPClassifier())\n",
        "])\n",
        "\n",
        "params = [{ \n",
        "    'count_vectorizer__stop_words': ['english', None],           # English stop words set has many known problems, so try the vectorization \n",
        "                                                                 # without using stop words at all\n",
        "           \n",
        "    'tfidf_transformer': [TfidfTransformer(), 'passthrough'],    # Whether to use count vectorized (skipping the TfidfTransformer step) \n",
        "                                                                 # or tfidf vectorized\n",
        "    'nn__hidden_layer_sizes' : [(50,), (50,25), (100,), (100, 50)],\n",
        "    'nn__solver' : ['lbfgs', 'sgd', 'adam'],\n",
        "    'nn__alpha' : [0.001, 0.0001],\n",
        "    'nn__batch_size' : [50],\n",
        "    'nn__learning_rate' : ['invscaling', 'adaptive'],\n",
        "    'nn__random_state' : [12],\n",
        "    'nn__max_iter' : [300]\n",
        "\n",
        "}]\n",
        "\n",
        "grid = GridSearchCV(pipe, params, cv = 10, scoring = 'accuracy').fit(X_train, y_train)"
      ],
      "metadata": {
        "id": "ab87a-uyvuoi"
      },
      "execution_count": null,
      "outputs": []
    },
    {
      "cell_type": "code",
      "source": [
        "# best_estimator_ returns the entire pipeline, so we can use the predict method directly on un-vectorized test data\n",
        "best_nn = grid.best_estimator_"
      ],
      "metadata": {
        "id": "J5MiIUjhylPW"
      },
      "execution_count": 28,
      "outputs": []
    },
    {
      "cell_type": "code",
      "source": [
        "#recover optimal parameters from the model\n",
        "best_nn.get_params"
      ],
      "metadata": {
        "colab": {
          "base_uri": "https://localhost:8080/",
          "height": 0
        },
        "id": "wshn3dkcjJGP",
        "outputId": "4cfea02e-d018-48df-9f38-d72ce1356505"
      },
      "execution_count": 29,
      "outputs": [
        {
          "output_type": "execute_result",
          "data": {
            "text/plain": [
              "<bound method Pipeline.get_params of Pipeline(steps=[('count_vectorizer', CountVectorizer()),\n",
              "                ('tfidf_transformer', 'passthrough'),\n",
              "                ('nn',\n",
              "                 MLPClassifier(batch_size=50, hidden_layer_sizes=(100, 50),\n",
              "                               learning_rate='invscaling', max_iter=300,\n",
              "                               random_state=12))])>"
            ]
          },
          "metadata": {},
          "execution_count": 29
        }
      ]
    },
    {
      "cell_type": "code",
      "source": [
        "##Saving best hyperparameters separately due to egregious runtime\n",
        "#<bound method Pipeline.get_params of Pipeline(steps=[('count_vectorizer', CountVectorizer()),\n",
        "#                ('tfidf_transformer', 'passthrough'),\n",
        "#                ('nn',\n",
        "#                 MLPClassifier(batch_size=50, hidden_layer_sizes=(100, 50),\n",
        "#                               learning_rate='invscaling', max_iter=300,\n",
        "#                               random_state=12))])>"
      ],
      "metadata": {
        "id": "20JJy9Vyl5hS"
      },
      "execution_count": null,
      "outputs": []
    },
    {
      "cell_type": "code",
      "source": [
        "# Predict on the test data and print evaluation metrics\n",
        "preds = best_linreg.predict(X_test)     \n",
        "print(classification_report(y_test, preds, target_names = mappings.values()))\n",
        "ConfusionMatrixDisplay.from_predictions(y_test, preds, display_labels = mappings.values())"
      ],
      "metadata": {
        "colab": {
          "base_uri": "https://localhost:8080/",
          "height": 623
        },
        "outputId": "740d63b6-f875-45f2-f164-13c6767fe09c",
        "id": "7xdYg2nZyns6"
      },
      "execution_count": 24,
      "outputs": [
        {
          "output_type": "stream",
          "name": "stdout",
          "text": [
            "              precision    recall  f1-score   support\n",
            "\n",
            "    negative       0.84      0.88      0.86        97\n",
            "    positive       0.88      0.84      0.86       103\n",
            "\n",
            "    accuracy                           0.86       200\n",
            "   macro avg       0.86      0.86      0.86       200\n",
            "weighted avg       0.86      0.86      0.86       200\n",
            "\n"
          ]
        },
        {
          "output_type": "execute_result",
          "data": {
            "text/plain": [
              "<sklearn.metrics._plot.confusion_matrix.ConfusionMatrixDisplay at 0x7f22a4fc42e0>"
            ]
          },
          "metadata": {},
          "execution_count": 24
        },
        {
          "output_type": "display_data",
          "data": {
            "text/plain": [
              "<Figure size 640x480 with 2 Axes>"
            ],
            "image/png": "[encoded data removed]"
          },
          "metadata": {}
        }
      ]
    },
    {
      "cell_type": "code",
      "source": [
        "misclassification_count = 0\n",
        "correct_disp = 0\n",
        "i = 0\n",
        "print(\"INCORRECT PREDICTIONS:\")\n",
        "while misclassification_count < 10:\n",
        "  if (preds[i] != y_test[i]):\n",
        "    print('\\t\"' + str(X_test[i])[2:-3] + '\"')     # [2:-3] to cut off unwanted starting and ending characters\n",
        "    print('\\tActual Sentiment: {}\\t\\tPredicted Sentiment: {}\\n'.format(mappings.get(y_test[i]), mappings.get(preds[i])))\n",
        "    misclassification_count += 1\n",
        "  i += 1\n",
        "\n",
        "print(\"CORRECT PREDICTIONS:\")\n",
        "i = 0\n",
        "while correct_disp < 10:\n",
        "  if (preds[i] == y_test[i]):\n",
        "    print('\\t\"' + str(X_test[i])[2:-3] + '\"')     # [2:-3] to cut off unwanted starting and ending characters\n",
        "    print('\\tActual Sentiment: {}\\t\\tPredicted Sentiment: {}\\n'.format(mappings.get(y_test[i]), mappings.get(preds[i])))\n",
        "    correct_disp += 1\n",
        "\n",
        "  i += 1"
      ],
      "metadata": {
        "colab": {
          "base_uri": "https://localhost:8080/",
          "height": 0
        },
        "outputId": "f70be10f-5c2c-4084-e54a-2d2064e7a558",
        "id": "3ukhHVc7yrGu"
      },
      "execution_count": 25,
      "outputs": [
        {
          "output_type": "stream",
          "name": "stdout",
          "text": [
            "INCORRECT PREDICTIONS:\n",
            "\t\"But despite these few flaws, this case is of exceptional quality and well worth the additional costs of owning an official OEM product.\"\n",
            "\tActual Sentiment: positive\t\tPredicted Sentiment: negative\n",
            "\n",
            "\t\"The mic there is a joke, and the volume is quite low.\"\n",
            "\tActual Sentiment: negative\t\tPredicted Sentiment: positive\n",
            "\n",
            "\t\"Small, sleek, impressive looking, practical setup with ample storage in place.\"\n",
            "\tActual Sentiment: positive\t\tPredicted Sentiment: negative\n",
            "\n",
            "\t\"Tied to charger for conversations lasting more than 45 minutes.MAJOR PROBLEMS!!\"\n",
            "\tActual Sentiment: negative\t\tPredicted Sentiment: positive\n",
            "\n",
            "\t\"Timely shipment and quality product.\"\n",
            "\tActual Sentiment: positive\t\tPredicted Sentiment: negative\n",
            "\n",
            "\t\"I gave it 5 stars because of the sound quality.\"\n",
            "\tActual Sentiment: positive\t\tPredicted Sentiment: negative\n",
            "\n",
            "\t\"You'll love how thin it is.\"\n",
            "\tActual Sentiment: positive\t\tPredicted Sentiment: negative\n",
            "\n",
            "\t\"The volume for the ringer is REAL good (you have choices how loud).\"\n",
            "\tActual Sentiment: positive\t\tPredicted Sentiment: negative\n",
            "\n",
            "\t\"I have bought this Nokia cell phone a few weeks ago and it was a nightmare.\"\n",
            "\tActual Sentiment: negative\t\tPredicted Sentiment: positive\n",
            "\n",
            "\t\"It defeats the purpose of a bluetooth headset.\"\n",
            "\tActual Sentiment: negative\t\tPredicted Sentiment: positive\n",
            "\n",
            "CORRECT PREDICTIONS:\n",
            "\t\"Great software for Motorolas.\"\n",
            "\tActual Sentiment: positive\t\tPredicted Sentiment: positive\n",
            "\n",
            "\t\"I am also very happy with the price.\"\n",
            "\tActual Sentiment: positive\t\tPredicted Sentiment: positive\n",
            "\n",
            "\t\"disappointed.\"\n",
            "\tActual Sentiment: negative\t\tPredicted Sentiment: negative\n",
            "\n",
            "\t\"Poor Talk Time Performance.\"\n",
            "\tActual Sentiment: negative\t\tPredicted Sentiment: negative\n",
            "\n",
            "\t\"What a piece of junk.. I lose more calls on this phone.\"\n",
            "\tActual Sentiment: negative\t\tPredicted Sentiment: negative\n",
            "\n",
            "\t\"Bad Purchase.\"\n",
            "\tActual Sentiment: negative\t\tPredicted Sentiment: negative\n",
            "\n",
            "\t\"This is a good battery, and it got here really fast.\"\n",
            "\tActual Sentiment: positive\t\tPredicted Sentiment: positive\n",
            "\n",
            "\t\"Phone now holds charge like it did when it was new.\"\n",
            "\tActual Sentiment: positive\t\tPredicted Sentiment: positive\n",
            "\n",
            "\t\"Very unreliable service from T-mobile !\"\n",
            "\tActual Sentiment: negative\t\tPredicted Sentiment: negative\n",
            "\n",
            "\t\"the phone was unusable and was not new.\"\n",
            "\tActual Sentiment: negative\t\tPredicted Sentiment: negative\n",
            "\n"
          ]
        }
      ]
    },
    {
      "cell_type": "markdown",
      "source": [
        "Overall, for this dataset model performance is best explored from a compute/training runtime perspective rather than a task performance perspective, as all three metrics achieved precision, recall, f1, and accuracy values within the margin of error of each other. From this perspecive, the Naive Bayes classifier is vastly superior, combing through a far larger parameter grid in a fraction of the time relative to logistic regression and especially the neural network approach. "
      ],
      "metadata": {
        "id": "lLyP_yD5qFKL"
      }
    }
  ]
}
